{
 "cells": [
  {
   "cell_type": "code",
   "execution_count": null,
   "id": "def2dcd6-cd56-463c-901d-d58967cc7a5f",
   "metadata": {},
   "outputs": [],
   "source": [
    "import tensorflow as tf\n",
    "from tensorflow.keras import layers\n",
    "import tensorflow_addons as tfa\n",
    "from pathlib import Path\n",
    "import numpy as np\n",
    "import os"
   ]
  },
  {
   "cell_type": "code",
   "execution_count": null,
   "id": "6b164893",
   "metadata": {},
   "outputs": [],
   "source": [
    "tf.__version__"
   ]
  },
  {
   "cell_type": "code",
   "execution_count": null,
   "id": "0a399cbf-ffb1-464d-90de-fda29a63b79a",
   "metadata": {},
   "outputs": [],
   "source": [
    "gpus = tf.config.list_physical_devices('GPU')\n",
    "if gpus:\n",
    "    try:\n",
    "        # Currently, memory growth needs to be the same across GPUs\n",
    "        for gpu in gpus:\n",
    "            tf.config.experimental.set_memory_growth(gpu, True)\n",
    "            logical_gpus = tf.config.list_logical_devices('GPU')\n",
    "            print(len(gpus), \"Physical GPUs,\", len(logical_gpus), \"Logical GPUs\")\n",
    "    except RuntimeError as e:\n",
    "        # Memory growth must be set before GPUs have been initialized\n",
    "        print(e)"
   ]
  },
  {
   "cell_type": "code",
   "execution_count": null,
   "id": "5059359e-389a-4c3c-8813-27f4f2b112c9",
   "metadata": {},
   "outputs": [],
   "source": [
    "# model = tf.keras.models.load_model(\"ckpt/matrix/2206080905/serving/\")\n",
    "model = tf.keras.models.load_model(\"/home/hoang/workspace/github/keystroke-dynamic-model/logs/1665664282/checkpoints/\")"
   ]
  },
  {
   "cell_type": "code",
   "execution_count": null,
   "id": "f8760d80-56c9-4bf2-b3ba-a734ea4e7a91",
   "metadata": {},
   "outputs": [],
   "source": [
    "def build_encoder(encoder):\n",
    "    inputs = encoder.inputs\n",
    "    outputs = encoder(inputs)\n",
    "    outputs = tf.keras.layers.Lambda(lambda x: tf.math.l2_normalize(x, axis=1))(outputs)\n",
    "    model = tf.keras.Model(inputs=inputs, outputs=outputs)\n",
    "    return model"
   ]
  },
  {
   "cell_type": "code",
   "execution_count": null,
   "id": "8fc02d3c",
   "metadata": {},
   "outputs": [],
   "source": [
    "embed_model = build_encoder(model)\n",
    "# embed_model = model\n",
    "embed_model.summary()"
   ]
  },
  {
   "cell_type": "code",
   "execution_count": null,
   "id": "7be4f7c6-1352-4879-885e-d5d21843023b",
   "metadata": {},
   "outputs": [],
   "source": [
    "def parse_fn(example_proto):\n",
    "    features = {\"data\": tf.io.FixedLenFeature((), tf.string),\n",
    "                \"label\": tf.io.FixedLenFeature((), tf.int64),\n",
    "                }\n",
    "    parsed_features = tf.io.parse_single_example(example_proto, features)\n",
    "    data = tf.io.decode_raw(parsed_features[\"data\"], tf.float32)\n",
    "    data = tf.reshape(data, shape=(70, 5))\n",
    "    return data, parsed_features[\"label\"]\n",
    "\n",
    "\n",
    "def load_tfrecord(filepath, batch_size=128, shuffle=True):\n",
    "    AUTOTUNE = tf.data.experimental.AUTOTUNE\n",
    "    dataset = tf.data.TFRecordDataset(filepath, num_parallel_reads=4)\n",
    "    dataset = dataset.map(parse_fn, num_parallel_calls=4)\n",
    "    dataset = dataset.batch(batch_size)\n",
    "    if shuffle:\n",
    "        dataset = dataset.shuffle(buffer_size=12345)\n",
    "    return dataset.prefetch(AUTOTUNE)"
   ]
  },
  {
   "cell_type": "code",
   "execution_count": null,
   "id": "3b5d45fb-6d47-449d-98c3-900d72c9581f",
   "metadata": {},
   "outputs": [],
   "source": [
    "test_dataset = load_tfrecord(filepath=list(map(str, Path(\"../data/max_1000/dev/\").glob(\"**/*.tfrecord\"))), batch_size=64, shuffle=False)"
   ]
  },
  {
   "cell_type": "code",
   "execution_count": null,
   "id": "69694930-e504-4d89-9ad6-549d3b8901cb",
   "metadata": {},
   "outputs": [],
   "source": [
    "X_test = []\n",
    "y_test = []\n",
    "for batch_idx, batch in enumerate(test_dataset):\n",
    "    x, y = batch\n",
    "    X_test.append(x)\n",
    "    y_test.append(y)\n",
    "    if batch_idx == 10:\n",
    "        break\n",
    "        pass\n",
    "\n",
    "X_test = np.concatenate(X_test)\n",
    "y_test = np.concatenate(y_test)\n",
    "\n",
    "print(X_test.shape, y_test.shape)"
   ]
  },
  {
   "cell_type": "code",
   "execution_count": null,
   "id": "2350dafb-15a2-4636-b996-1a09b4a1879e",
   "metadata": {},
   "outputs": [],
   "source": [
    "# X_test = np.load(\"processed_data/X_train.npy\")\n",
    "# y_test = np.load(\"processed_data/y_train.npy\")\n",
    "\n",
    "# print(X_test.shape, y_test.shape)"
   ]
  },
  {
   "cell_type": "code",
   "execution_count": null,
   "id": "43692960-a542-4fcb-aa8d-d90d36820cfa",
   "metadata": {},
   "outputs": [],
   "source": [
    "# import random\n",
    "# from sklearn.manifold import TSNE\n",
    "# import matplotlib.pyplot as plt\n",
    "\n",
    "# vectors = embed_model(X_test).numpy()\n",
    "# labels = y_test\n",
    "\n",
    "# print(vectors.shape, labels.shape)\n",
    "\n",
    "# if vectors.shape[-1] > 2:\n",
    "#     print(\"Reducing dimension of data ... \")\n",
    "# #     embeds = TSNE(n_components=2).fit_transform(vectors)\n",
    "\n",
    "# plt.figure(figsize=(8, 6), facecolor=\"azure\")\n",
    "# labels = np.squeeze(labels)\n",
    "# for label in np.unique(labels):\n",
    "#     tmp = embeds[labels==label]\n",
    "#     plt.scatter(tmp[:, 0], tmp[:, 1], label=label)\n",
    "\n",
    "# plt.legend()\n",
    "# plt.show()"
   ]
  },
  {
   "cell_type": "code",
   "execution_count": null,
   "id": "88e112ca-c9fd-4f52-8d2f-dd8e9b09c38e",
   "metadata": {
    "tags": []
   },
   "outputs": [],
   "source": [
    "import random\n",
    "from sklearn.manifold import TSNE\n",
    "import matplotlib.pyplot as plt\n",
    "\n",
    "vectors = embed_model(X_test).numpy()\n",
    "labels = y_test"
   ]
  },
  {
   "cell_type": "code",
   "execution_count": null,
   "id": "ab9ac506",
   "metadata": {},
   "outputs": [],
   "source": [
    "vectors"
   ]
  },
  {
   "cell_type": "code",
   "execution_count": null,
   "id": "529d3210-c4df-4323-b9c1-8cd9fdde5f91",
   "metadata": {
    "scrolled": true
   },
   "outputs": [],
   "source": [
    "from tqdm import tqdm\n",
    "\n",
    "nrows = 4\n",
    "ncols = 4\n",
    "\n",
    "fig, axes = plt.subplots(nrows=nrows, ncols=ncols, figsize=(20,16))\n",
    "norm=plt.Normalize(-22,22)\n",
    "\n",
    "for i in tqdm(range(1 * 1)):\n",
    "\n",
    "    sample_classes = random.sample(labels.tolist(), k=10)\n",
    "    \n",
    "    x = []\n",
    "    y = []\n",
    "    \n",
    "    for c in sample_classes:\n",
    "        \n",
    "        v = vectors[labels == c]\n",
    "        l = labels[labels == c]\n",
    "        x.append(v)\n",
    "        y.append(l)\n",
    "    \n",
    "    x = np.concatenate(x)\n",
    "    y = np.concatenate(y)\n",
    "    \n",
    "#     print(x.shape, y.shape)\n",
    "\n",
    "    if x.shape[-1] > 2:\n",
    "#         print(\"Reducing dimension of data ... \")\n",
    "        embs = TSNE(n_components=2).fit_transform(x)\n",
    "\n",
    "#     plt.figure(figsize=(8, 6), facecolor=\"azure\")\n",
    "    y = np.squeeze(y)\n",
    "    \n",
    "    ax = axes[i//ncols][i%ncols]\n",
    "#     ax.set_xlim([-100, 100])\n",
    "#     ax.set_ylim([-100, 100])\n",
    "    \n",
    "    for l in np.unique(y):\n",
    "        \n",
    "        tmp = embs[y==l]\n",
    "#         plt.scatter(tmp[:, 0], tmp[:, 1], label=l)\n",
    "        ax.scatter(tmp[:, 0], tmp[:, 1], label=l, norm=norm, vmin=-100, vmax=100)\n",
    "    \n",
    "    \n",
    "    plt.legend()\n",
    "\n",
    "# plt.legend()\n",
    "plt.show()"
   ]
  },
  {
   "cell_type": "code",
   "execution_count": null,
   "id": "f85aebc2",
   "metadata": {},
   "outputs": [],
   "source": [
    "# TEST AUGMENT ON TRAIN SET\n",
    "\n",
    "\n",
    "# TEST AUGMENT ON TEST SET\n"
   ]
  },
  {
   "cell_type": "code",
   "execution_count": null,
   "id": "600e7578-f6ce-4e3f-b993-8247c236ff23",
   "metadata": {},
   "outputs": [],
   "source": [
    "import random\n",
    "from sklearn.manifold import TSNE\n",
    "import matplotlib.pyplot as plt\n",
    "from scipy.spatial.distance import cdist\n",
    "\n",
    "vectors = embed_model(X_test).numpy()\n",
    "labels = y_test\n",
    "\n",
    "FN_total = 0\n",
    "FN = 0\n",
    "\n",
    "FP_total = 0\n",
    "FP = 0\n",
    "\n",
    "threshold = 0.3\n",
    "\n",
    "for label in np.unique(labels):\n",
    "    metric = 'cosine'\n",
    "    \n",
    "    positive = vectors[label == labels]\n",
    "    negative = vectors[label != labels]\n",
    "    \n",
    "    d_positive = cdist(positive, positive, metric=metric)\n",
    "    d_negative = cdist(positive, negative, metric=metric)\n",
    "    \n",
    "#     print(np.mean(d_positive), np.mean(d_negative))\n",
    "    \n",
    "    d_positive = np.reshape(d_positive, (-1,))\n",
    "    d_positive = d_positive[d_positive >= 1e-9]\n",
    "    d_negative = np.reshape(d_negative, (-1,))\n",
    "    \n",
    "    if len(d_positive) == 0:\n",
    "        print(\"FAIL ON GET POSITIVE, IGNORE\")\n",
    "        continue\n",
    "    \n",
    "#     plt.boxplot([d_positive, d_negative], whis=5)\n",
    "#     plt.legend(['d_positive', 'd_negative'])\n",
    "#     plt.show()\n",
    "\n",
    "    fn = np.sum(d_negative < threshold) / len(d_negative) \n",
    "    fp = np.sum(d_positive > threshold) / len(d_positive)\n",
    "    \n",
    "    FP_total += 1\n",
    "    FP += fp\n",
    "    \n",
    "    FN_total += 1\n",
    "    FN += fn\n",
    "    \n",
    "    if label % 100 == 0:\n",
    "        print(label, \"FN: {}, FP: {}\".format(FN/FN_total, FP/FP_total))"
   ]
  },
  {
   "cell_type": "code",
   "execution_count": null,
   "id": "cd21f045-47d9-4835-8e5c-b8ab483c7624",
   "metadata": {},
   "outputs": [],
   "source": [
    "import json\n",
    "from pathlib import Path\n",
    "\n",
    "for filepath in Path(\"/home/hoang/Downloads/log_case/\").glob(\"**/*.json\"):\n",
    "    with open(filepath) as f:\n",
    "        raw_data = json.load(f)\n",
    "    if isinstance(data, list):\n",
    "        pass"
   ]
  },
  {
   "cell_type": "code",
   "execution_count": null,
   "id": "28d6b75b-0ba7-47e3-a4d8-33e9e1ec7b49",
   "metadata": {},
   "outputs": [],
   "source": [
    "for i in range(16):\n",
    "    print(i/16)"
   ]
  },
  {
   "cell_type": "code",
   "execution_count": null,
   "id": "2796cfc3",
   "metadata": {},
   "outputs": [],
   "source": []
  }
 ],
 "metadata": {
  "kernelspec": {
   "display_name": "Python 3 (ipykernel)",
   "language": "python",
   "name": "python3"
  },
  "language_info": {
   "codemirror_mode": {
    "name": "ipython",
    "version": 3
   },
   "file_extension": ".py",
   "mimetype": "text/x-python",
   "name": "python",
   "nbconvert_exporter": "python",
   "pygments_lexer": "ipython3",
   "version": "3.8.0"
  }
 },
 "nbformat": 4,
 "nbformat_minor": 5
}
